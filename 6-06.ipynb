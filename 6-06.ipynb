{
 "metadata": {
  "language_info": {
   "codemirror_mode": {
    "name": "ipython",
    "version": 3
   },
   "file_extension": ".py",
   "mimetype": "text/x-python",
   "name": "python",
   "nbconvert_exporter": "python",
   "pygments_lexer": "ipython3",
   "version": "3.8.2-final"
  },
  "orig_nbformat": 2,
  "kernelspec": {
   "name": "python_defaultSpec_1597679031389",
   "display_name": "Python 3.8.2 32-bit"
  }
 },
 "nbformat": 4,
 "nbformat_minor": 2,
 "cells": [
  {
   "cell_type": "code",
   "execution_count": 1,
   "metadata": {},
   "outputs": [
    {
     "output_type": "execute_result",
     "data": {
      "text/plain": "3.141592653589793"
     },
     "metadata": {},
     "execution_count": 1
    }
   ],
   "source": [
    "import math\n",
    "math.pi"
   ]
  },
  {
   "cell_type": "code",
   "execution_count": 1,
   "metadata": {
    "tags": []
   },
   "outputs": [
    {
     "output_type": "stream",
     "name": "stdout",
     "text": "['__builtins__', '__cached__', '__doc__', '__file__', '__loader__', '__name__', '__package__', '__spec__', 'func']\n"
    }
   ],
   "source": [
    "import my_module\n",
    "my_module_attri = dir(my_module)\n",
    "print(my_module_attri)"
   ]
  },
  {
   "cell_type": "code",
   "execution_count": 2,
   "metadata": {
    "tags": []
   },
   "outputs": [
    {
     "output_type": "stream",
     "name": "stdout",
     "text": "In the global    : initial initial initial initial\nAfter local      : test    test    test    test   \nAfter nonlocal   : test    test    nonlocal test   \nAfter global     : test    test    nonlocal test   \nAfter func call: initial initial initial global    \n"
    }
   ],
   "source": [
    "def scope_test():\n",
    "    def do_local():\n",
    "        s1 = \"local     \"\n",
    "    def do_nonlocal():\n",
    "        nonlocal s2\n",
    "        s2 = \"nonlocal\"\n",
    "    def do_global():\n",
    "        global s3\n",
    "        s3 = \"global    \"\n",
    "\n",
    "    s0 = s1 = s2 = s3 = \"test   \"\n",
    "    do_local()\n",
    "    print(\"After local      :\", s0, s1, s2, s3)\n",
    "    do_nonlocal()\n",
    "    print(\"After nonlocal   :\", s0, s1, s2, s3)\n",
    "    do_global()\n",
    "    print(\"After global     :\", s0, s1, s2, s3)\n",
    "\n",
    "s0 = s1 = s2 = s3 = \"initial\"\n",
    "print(\"In the global    :\", s0, s1, s2, s3)\n",
    "scope_test()\n",
    "print(\"After func call:\", s0, s1, s2, s3)"
   ]
  },
  {
   "cell_type": "code",
   "execution_count": null,
   "metadata": {},
   "outputs": [],
   "source": []
  }
 ]
}